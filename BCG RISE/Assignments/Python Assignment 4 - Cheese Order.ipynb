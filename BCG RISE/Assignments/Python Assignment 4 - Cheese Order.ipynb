{
 "cells": [
  {
   "cell_type": "markdown",
   "metadata": {
    "collapsed": true
   },
   "source": [
    "###  Python Assignment 4\n",
    "\n",
    "\n",
    "> **NOTE:** This program requires the use of **`if, elif, else`**, and casting between strings and numbers. The program should use the various code syntax covered in module 3.  \n",
    ">  \n",
    ">The program must result in print output using numeric input similar to that shown in the sample below.\n",
    "\n",
    "## Program: Cheese Order    \n",
    "\n",
    "- set values for maximum and minimum order variables  \n",
    "- set value for price variable\n",
    "- get order_amount input and cast to a number  \n",
    "- check order_amount and give message checking against  \n",
    "  - over maximum\n",
    "  - under minimum\n",
    "- else within maximum and minimum give message with calculated price \n",
    "\n",
    "\n",
    "Sample input and output:\n",
    "```\n",
    "Enter cheese order weight (numeric value): 113\n",
    "113.0 is more than currently available stock\n",
    "```\n",
    "\n",
    "```\n",
    "Enter cheese order weight (numeric value): .15\n",
    "0.15 is below minimum order amount\n",
    "```  \n",
    "\n",
    "```\n",
    "Enter cheese order weight (numeric value): 2\n",
    "2.0 costs $15.98\n",
    "```  "
   ]
  },
  {
   "cell_type": "code",
   "execution_count": 3,
   "metadata": {},
   "outputs": [
    {
     "name": "stdout",
     "output_type": "stream",
     "text": [
      "Enter cheese order weight (numeric value): 50\n",
      "50.0 of cheese costs $ 150.0\n"
     ]
    }
   ],
   "source": [
    "#Live Class Example 3 - Create, Call and Test\n",
    "# Set values for maximum and minimum order variables\n",
    "max_order = 100\n",
    "min_order = 25\n",
    "\n",
    "# Set value for price variable\n",
    "price = 3\n",
    "\n",
    "# Get order_amount input and cast to a number\n",
    "cust_order = float(input(\"Enter cheese order weight (numeric value): \"))\n",
    "\n",
    "# Check order_amount and give message checking against\n",
    "if (cust_order > max_order):\n",
    "    print(cust_order,\"is more than currently available stock.\")\n",
    "elif (cust_order < min_order):\n",
    "    print(cust_order,\"is below minimum order amount.\")\n",
    "else:\n",
    "    print(cust_order,\"of cheese costs $\",cust_order*price)"
   ]
  }
 ],
 "metadata": {
  "kernelspec": {
   "display_name": "Python 3",
   "language": "python",
   "name": "python3"
  },
  "language_info": {
   "codemirror_mode": {
    "name": "ipython",
    "version": 3
   },
   "file_extension": ".py",
   "mimetype": "text/x-python",
   "name": "python",
   "nbconvert_exporter": "python",
   "pygments_lexer": "ipython3",
   "version": "3.8.10"
  }
 },
 "nbformat": 4,
 "nbformat_minor": 1
}
