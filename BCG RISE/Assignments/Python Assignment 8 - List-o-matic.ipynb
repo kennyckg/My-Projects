{
 "cells": [
  {
   "cell_type": "markdown",
   "metadata": {},
   "source": [
    "### Python Assignment 8  \n",
    " \n",
    "\n",
    "| Important Assignment Requirements |  \n",
    "|:-------------------------------|  \n",
    "| **NOTE:** This program requires creating a function using **`def`** and **`return`**, using **`print`** output, **`input`**, **`if`**, **`in`** keywords, **`.append()`**, **`.pop()`**, **`.remove()`** list methods.  As well as other standard Python |   \n",
    "\n",
    "## Program: list-o-matic  \n",
    "This program takes string input and checks if that string is in a list of strings    \n",
    "- if string is in the list it removes the first instance from list  \n",
    "- if string is not in the list the input gets appended to the list  \n",
    "- if the string is empty then the last item is popped from the list \n",
    "- if the **list becomes empty** the program ends  \n",
    "- if the user enters \"quit\" then the program ends  \n",
    "\n",
    "program has 2 parts  \n",
    "- **program flow** which can be modified to ask for a specific type of item.  This is the programmers choice.  Add a list of fish, trees, books, movies, songs.... your choice.  \n",
    "- **list-o-matic** Function which takes arguments of a string and a list.  The function modifies the list and returns a message as seen below.  \n",
    "\n",
    "![TODO: upload image to blob](https://q4tiyg-ch3302.files.1drv.com/y4mkvwrxHSIqinTvp_nNGFiMn_yyJ0dsEtCzPpG_hsFMRdyEED4ExPdsWmbdPIKRpgU25VxFIUAGBdz0yzqumtxw7wy_pAJMJ3MeZ6PJQKyej6UwN6N6zOmnRq6106aqvXJB43RKRJgB2oMmidb9Zl0OBjmvFVowm-XtD2wUW5bJrgd4LS8I5Nso_vXqfpNCANRYcKe4WnjIWds4KoV4sjPIg?width=717&height=603&cropmode=none)\n",
    "\n",
    "**[ ]** initialize a list with several strings at the beginning of the program flow and follow the flow chart and output examples\n",
    "\n",
    " *example input/output*  \n",
    " ```\n",
    "look at all the animals ['cat', 'goat', 'cat']\n",
    "enter the name of an animal: horse\n",
    "1 instance of horse appended to list\n",
    "\n",
    "look at all the animals ['cat', 'goat', 'cat', 'horse']\n",
    "enter the name of an animal: cat\n",
    "1 instance of cat removed from list\n",
    "\n",
    "look at all the animals ['goat', 'cat', 'horse']\n",
    "enter the name of an animal: cat\n",
    "1 instance of cat removed from list\n",
    "\n",
    "look at all the animals ['goat', 'horse']\n",
    "enter the name of an animal:          (<-- entered empty string)\n",
    "horse popped from list\n",
    "\n",
    "look at all the animals ['goat']\n",
    "enter the name of an animal:          (<-- entered empty string)\n",
    "goat popped from list\n",
    "\n",
    "Goodbye!\n",
    "```  \n",
    "\n",
    "*example 2*\n",
    "```\n",
    "look at all the animals ['cat', 'goat', 'cat']\n",
    "enter the name of an animal: Quit\n",
    "Goodbye!\n",
    "```  \n",
    "\n"
   ]
  },
  {
   "cell_type": "code",
   "execution_count": 3,
   "metadata": {},
   "outputs": [
    {
     "name": "stdout",
     "output_type": "stream",
     "text": [
      "Look at all the animals:  ['cat', 'dog', 'horse', 'cat', 'monkey']\n",
      "Enter the name of an animal or Q to quit: cat\n",
      "1 instance of  Cat removed from list\n",
      "Look at all the animals:  ['dog', 'horse', 'cat', 'monkey']\n",
      "Enter the name of an animal or Q to quit: MonkEY\n",
      "Monkey removed from list\n",
      "Look at all the animals:  ['dog', 'horse', 'cat']\n",
      "Enter the name of an animal or Q to quit: GoAT\n",
      "1 instance of  Goat appended to list\n",
      "Look at all the animals:  ['dog', 'horse', 'cat', 'goat']\n",
      "Enter the name of an animal or Q to quit: Horse\n",
      "Horse removed from list\n",
      "Look at all the animals:  ['dog', 'cat', 'goat']\n",
      "Enter the name of an animal or Q to quit: dog\n",
      "Dog removed from list\n",
      "Look at all the animals:  ['cat', 'goat']\n",
      "Enter the name of an animal or Q to quit: cat\n",
      "Cat removed from list\n",
      "Look at all the animals:  ['goat']\n",
      "Enter the name of an animal or Q to quit: Q\n",
      "Goodbye!\n"
     ]
    }
   ],
   "source": [
    "# [] create list-o-matic\n",
    "# [] copy and paste in edX assignment page\n",
    "def Animals():\n",
    "    animals = [\"cat\", \"dog\", \"horse\", \"cat\", \"monkey\"]\n",
    "    while animals != []:\n",
    "        print(\"Look at all the animals: \", animals)\n",
    "        guess_animals = input(\"Enter the name of an animal or Q to quit: \").lower()\n",
    "        if guess_animals in animals:\n",
    "            a = animals.count(guess_animals)\n",
    "            if a >= 2:\n",
    "                animals.remove(guess_animals)\n",
    "                print(\"1 instance of \",guess_animals.capitalize(),\"removed from list\")\n",
    "            else:\n",
    "                print(guess_animals.capitalize(),\"removed from list\")\n",
    "                animals.remove(guess_animals)\n",
    "        elif guess_animals == \"q\":\n",
    "            break\n",
    "            print(\"Goodbye!\")\n",
    "        elif guess_animals not in animals and guess_animals.isalpha() and guess_animals != \"q\":\n",
    "            animals.append(guess_animals)\n",
    "            print(\"1 instance of \", guess_animals.capitalize(), \"appended to list\")\n",
    "        elif guess_animals == \"\" or \" \":\n",
    "            print(animals[-1].capitalize(),\"popped from the list\")\n",
    "            animals.pop(-1)\n",
    "    return \"Goodbye!\"\n",
    "\n",
    "print(Animals())"
   ]
  },
  {
   "cell_type": "markdown",
   "metadata": {},
   "source": [
    "[Terms of use](http://go.microsoft.com/fwlink/?LinkID=206977) &nbsp; [Privacy & cookies](https://go.microsoft.com/fwlink/?LinkId=521839) &nbsp; © 2017 Microsoft"
   ]
  }
 ],
 "metadata": {
  "anaconda-cloud": {},
  "kernelspec": {
   "display_name": "Python 3",
   "language": "python",
   "name": "python3"
  },
  "language_info": {
   "codemirror_mode": {
    "name": "ipython",
    "version": 3
   },
   "file_extension": ".py",
   "mimetype": "text/x-python",
   "name": "python",
   "nbconvert_exporter": "python",
   "pygments_lexer": "ipython3",
   "version": "3.8.10"
  }
 },
 "nbformat": 4,
 "nbformat_minor": 1
}
