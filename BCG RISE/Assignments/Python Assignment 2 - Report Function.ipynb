{
 "cells": [
  {
   "cell_type": "markdown",
   "id": "8cc49377",
   "metadata": {},
   "source": [
    "### Python Programming Assignment 2"
   ]
  },
  {
   "cell_type": "markdown",
   "id": "284fb654",
   "metadata": {},
   "source": [
    "This program requires the use of **while** loop, **if, elif, else, if, else** (nested), **casting** of type, between strings and numbers. The program should **only** use code syntax covered in modules 1 - 4. The program must result in print output using the numeric input, similar to that shown in the samples displaying \"Items\" and \"Total\"."
   ]
  },
  {
   "cell_type": "markdown",
   "id": "cde27b43",
   "metadata": {},
   "source": [
    "**Program: adding_report() function**\n",
    "This program calls the adding_report() function which repeatedly takes positive integer input until the user quits and then sums the integers and prints a \"report\".\n",
    "The adding_report() function has 1 string parameter which indicates the type of report:\n",
    "- \"A\" used as the argument to adding_report() results in printing of all of the input integers and the total\n",
    "- \"T\" used as the argument results in printing only the total\n",
    "\n",
    "_Sample input and output:_\n",
    "\n",
    "**Call adding_report() with \"A\" as argument (print all the integers entered and the total)**<br>\n",
    "Input an integer to add to the total or \"Q\" to quit<br>\n",
    "Enter an integer or \"Q\": 3<br>\n",
    "Enter an integer or \"Q\": 6<br>\n",
    "Enter an integer or \"Q\": 24<br>\n",
    "Enter an integer or \"Q\": 17<br>\n",
    "Enter an integer or \"Q\": 61<br>\n",
    "Enter an integer or \"Q\": nine<br>\n",
    "nine is invalid input<br>\n",
    "Enter an integer or \"Q\": q<br>\n",
    "<br>\n",
    "Items<br>\n",
    "3<br>\n",
    "6<br>\n",
    "24<br>\n",
    "17<br>\n",
    "61<br>\n",
    "\n",
    "Total<br>\n",
    "111<br>\n",
    "\n",
    "\n",
    "**Call adding_report() with \"T\" as argument (print only the total)**<br>\n",
    "Input an integer to add to the total or \"Q\" to quit<br>\n",
    "Enter an integer or \"Q\": 5<br>\n",
    "Enter an integer or \"Q\": 7<br>\n",
    "Enter an integer or \"Q\": Quit<br>\n",
    "<br>\n",
    "Total<br>\n",
    " 12"
   ]
  },
  {
   "cell_type": "code",
   "execution_count": 3,
   "id": "7a73ee54",
   "metadata": {},
   "outputs": [
    {
     "name": "stdout",
     "output_type": "stream",
     "text": [
      "Enter \"A\" for all items to be shown, or \"T\" to view only the total: h\n",
      "Please enter either \"A\" or \"T\" to proceed: \n",
      "Enter \"A\" for all items to be shown, or \"T\" to view only the total: A\n",
      "Input an integer or \"Q\" to exit and show the report:\n",
      "Enter an integer or \"Q\" to exit and show the report: 48\n",
      "Enter an integer or \"Q\" to exit and show the report: 89\n",
      "Enter an integer or \"Q\" to exit and show the report: 65\n",
      "Enter an integer or \"Q\" to exit and show the report: q\n",
      "End of Tally.\n",
      "Item:  \n",
      "48\n",
      "89\n",
      "65 \n",
      " Total:  202\n"
     ]
    }
   ],
   "source": [
    "def adding_report(report_type):\n",
    "    item = \"\"\n",
    "    total = 0\n",
    "    print(\"Input an integer or \\\"Q\\\" to exit and show the report:\")\n",
    "\n",
    "    while True:\n",
    "        user_input = input(\"Enter an integer or \\\"Q\\\" to exit and show the report: \")\n",
    "        #To check if user_input is a digit; if digit, add to item\n",
    "        if user_input.isdigit():\n",
    "            total += int(user_input)\n",
    "            if report_type.upper()==\"A\":\n",
    "                item = item + \"\\n\" + user_input\n",
    "        #To check if user_input is \"Q\"; if \"Q\", end tally and print report\n",
    "        elif user_input.upper() == \"Q\":\n",
    "            print(\"End of Tally.\")\n",
    "            if report_type.upper()==\"A\":\n",
    "                print(\"Item: \",item,\"\\n Total: \",str(total))\n",
    "            elif report_type.upper()==\"T\":\n",
    "                print(\"Total: \",str(total))\n",
    "            break \n",
    "        #To check if user_input is an invalid input\n",
    "        else:\n",
    "            print(user_input,\"is not a valid input, please key an INTEGER!\")\n",
    "\n",
    "#For user to input report type \"A\" or \"T\"\n",
    "while True:\n",
    "    report_type = input(\"Enter \\\"A\\\" for all items to be shown, or \\\"T\\\" to view only the total: \")\n",
    "    if report_type.upper()==\"A\":\n",
    "        adding_report(\"A\")\n",
    "        break\n",
    "    if report_type.upper()==\"T\":\n",
    "        adding_report(\"T\")\n",
    "        break\n",
    "    else:\n",
    "        print(\"Please enter either \\\"A\\\" or \\\"T\\\" to proceed: \")"
   ]
  }
 ],
 "metadata": {
  "kernelspec": {
   "display_name": "Python 3",
   "language": "python",
   "name": "python3"
  },
  "language_info": {
   "codemirror_mode": {
    "name": "ipython",
    "version": 3
   },
   "file_extension": ".py",
   "mimetype": "text/x-python",
   "name": "python",
   "nbconvert_exporter": "python",
   "pygments_lexer": "ipython3",
   "version": "3.8.10"
  }
 },
 "nbformat": 4,
 "nbformat_minor": 5
}
