{
 "cells": [
  {
   "cell_type": "markdown",
   "id": "cc535b25",
   "metadata": {},
   "source": [
    "###  Python Assignment 6"
   ]
  },
  {
   "cell_type": "code",
   "execution_count": 1,
   "id": "c02582b6",
   "metadata": {},
   "outputs": [
    {
     "name": "stdout",
     "output_type": "stream",
     "text": [
      "City of Beijing month ave: highest high is 30.9 Celsius\n",
      "City of Cairo month ave: highest high is 34.7 Celsius\n",
      "City of London month ave: highest high is 23.5 Celsius\n",
      "City of Nairobi month ave: highest high is 26.3 Celsius\n",
      "City of New York City month ave: highest high is 28.9 Celsius\n",
      "City of Sydney month ave: highest high is 26.5 Celsius\n",
      "City of Tokyo month ave: highest high is 30.8 Celsius\n",
      "City of Rio de Janeiro month ave: highest high is  30.0 Celsius\n"
     ]
    },
    {
     "name": "stderr",
     "output_type": "stream",
     "text": [
      "  % Total    % Received % Xferd  Average Speed   Time    Time     Time  Current\n",
      "                                 Dload  Upload   Total   Spent    Left  Speed\n",
      "\n",
      "  0     0    0     0    0     0      0      0 --:--:-- --:--:-- --:--:--     0\n",
      "100   222  100   222    0     0    222      0  0:00:01 --:--:--  0:00:01   592\n"
     ]
    }
   ],
   "source": [
    "!curl https://raw.githubusercontent.com/MicrosoftLearning/intropython/master/world_temp_mean.csv -o mean_temp.txt\n",
    "mean_temp = open('mean_temp.txt', 'r') \n",
    "\n",
    "\n",
    "mean_temp = open(\"mean_temp.txt\", \"+a\")\n",
    "mean_temp.write (\"Rio de Janeiro, Brazil, 30.0,18.0\\n\")\n",
    "\n",
    "\n",
    "mean_temp.seek(0)\n",
    "headings = mean_temp.readline().split(\",\")\n",
    "\n",
    "\n",
    "city_temp = mean_temp.readline() # goes to the next line\n",
    "\n",
    "while city_temp: \n",
    "    # don't write the whole line to the console, we want to print just the CITY and HIGH TEMP\n",
    "    \n",
    "    city_info = city_temp.split(',') # This is the list \n",
    "    print(headings[0].title(), 'of', city_info[0], headings[2],'is', city_info[2], 'Celsius')\n",
    "    city_temp = mean_temp.readline() # go to the next line at the end of the while loop\n",
    "\n",
    "mean_temp.close()"
   ]
  },
  {
   "cell_type": "code",
   "execution_count": 2,
   "id": "b0233a89",
   "metadata": {},
   "outputs": [
    {
     "data": {
      "text/plain": [
       "list"
      ]
     },
     "execution_count": 2,
     "metadata": {},
     "output_type": "execute_result"
    }
   ],
   "source": [
    "type(headings)"
   ]
  }
 ],
 "metadata": {
  "kernelspec": {
   "display_name": "Python 3",
   "language": "python",
   "name": "python3"
  },
  "language_info": {
   "codemirror_mode": {
    "name": "ipython",
    "version": 3
   },
   "file_extension": ".py",
   "mimetype": "text/x-python",
   "name": "python",
   "nbconvert_exporter": "python",
   "pygments_lexer": "ipython3",
   "version": "3.8.10"
  }
 },
 "nbformat": 4,
 "nbformat_minor": 5
}
