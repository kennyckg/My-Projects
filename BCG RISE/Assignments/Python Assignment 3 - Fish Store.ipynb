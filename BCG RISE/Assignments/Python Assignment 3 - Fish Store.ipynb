{
 "cells": [
  {
   "cell_type": "markdown",
   "metadata": {
    "collapsed": true
   },
   "source": [
    "### Python Assignment 3  \n",
    "\n",
    "\n",
    "| Some Assignment Requirements |  \n",
    "|:-------------------------------|  \n",
    "| **NOTE:** This program requires a **function** be defined, created and called. The call will send values based on user input.  The function call must capture a `return` value that is used in print output.  The function will have parameters and `return` a string and should otherwise use code syntax covered in module 2.  |  \n",
    " \n",
    "## Program: fishstore()\n",
    "create and test fishstore()\n",
    "- **fishstore() takes 2 string arguments: fish & price**\n",
    "- **fishstore returns a string in sentence form**  \n",
    "- **gather input for fish_entry and price_entry to use in calling fishstore()**\n",
    "- **print the return value of fishstore()**\n",
    ">example of output: **`Fish Type: Guppy costs $1`**"
   ]
  },
  {
   "cell_type": "code",
   "execution_count": 5,
   "metadata": {},
   "outputs": [
    {
     "name": "stdout",
     "output_type": "stream",
     "text": [
      "Enter fish name: Saba\n",
      "Enter the fish price (no symbols): 90\n"
     ]
    },
    {
     "data": {
      "text/plain": [
       "'Fish Type: Saba costs $92'"
      ]
     },
     "execution_count": 5,
     "metadata": {},
     "output_type": "execute_result"
    }
   ],
   "source": [
    "#fishstore()\n",
    "\n",
    "fish_entry = input(\"Enter fish name: \")\n",
    "price_entry = input(\"Enter the fish price (no symbols): \")\n",
    "if price_entry.isdigit() == False:\n",
    "    print(\"Please enter a numeric value.\")\n",
    "    price_entry = input(\"Enter the fish price(no symbols): \")\n",
    "\n",
    "#challenge: adding $2 for fish listed in list\n",
    "expensive_fish = [\"saba\", \"mackerel\", \"tuna\"]\n",
    "\n",
    "def fishstore(fish, price):\n",
    "    #challenge: adding $2 for fish listed in list\n",
    "    if(fish.lower() in expensive_fish):\n",
    "        price = str(int(price) + 2)\n",
    "    sentence = \"Fish Type: \"+fish.title()+\" costs $\"+price\n",
    "    return sentence\n",
    "\n",
    "fishstore(fish_entry,price_entry)"
   ]
  },
  {
   "cell_type": "markdown",
   "metadata": {},
   "source": [
    "[Terms of use](http://go.microsoft.com/fwlink/?LinkID=206977) &nbsp; [Privacy & cookies](https://go.microsoft.com/fwlink/?LinkId=521839) &nbsp; © 2017 Microsoft"
   ]
  }
 ],
 "metadata": {
  "kernelspec": {
   "display_name": "Python 3",
   "language": "python",
   "name": "python3"
  },
  "language_info": {
   "codemirror_mode": {
    "name": "ipython",
    "version": 3
   },
   "file_extension": ".py",
   "mimetype": "text/x-python",
   "name": "python",
   "nbconvert_exporter": "python",
   "pygments_lexer": "ipython3",
   "version": "3.8.10"
  }
 },
 "nbformat": 4,
 "nbformat_minor": 1
}
